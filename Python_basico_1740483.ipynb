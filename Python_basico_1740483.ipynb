{
 "cells": [
  {
   "cell_type": "markdown",
   "metadata": {},
   "source": [
    "# Ejercicio básicos\n"
   ]
  },
  {
   "cell_type": "markdown",
   "metadata": {},
   "source": [
    "#### Ejercicio 1"
   ]
  },
  {
   "cell_type": "markdown",
   "metadata": {},
   "source": [
    "Realiza una variable con tu matricula y realiza una secuencia de imprimir con tu nombre y tu matricula concatenados."
   ]
  },
  {
   "cell_type": "code",
   "execution_count": 1,
   "metadata": {},
   "outputs": [
    {
     "name": "stdout",
     "output_type": "stream",
     "text": [
      "Mauricio Espinosa 1740483\n"
     ]
    }
   ],
   "source": [
    "matricula= 1740483\n",
    "print(\"Mauricio Espinosa \"+str(matricula))"
   ]
  },
  {
   "cell_type": "markdown",
   "metadata": {},
   "source": [
    "#### Ejercicio 2"
   ]
  },
  {
   "cell_type": "markdown",
   "metadata": {},
   "source": [
    "Pidiendo el input del usuario pide dos números y crea una pequeña calculadora con los operadores básicos de suma, resta, multiplicación, división, y exponente."
   ]
  },
  {
   "cell_type": "code",
   "execution_count": 2,
   "metadata": {},
   "outputs": [
    {
     "name": "stdout",
     "output_type": "stream",
     "text": [
      "Ingrese el primer número: \n",
      "3\n",
      "Ingrese el segundo número: \n",
      "5\n",
      "Seleccione la operación a realizar:\n",
      "1. Suma\n",
      "2. Resta\n",
      "3. Multiplicación\n",
      "4. División(a/b)\n",
      "5. División(b/a)\n",
      "6. Exponente(a^b)\n",
      "7. Exponente(b^a)  \n",
      "4\n",
      "La división es: 0.6\n"
     ]
    }
   ],
   "source": [
    "print(\"Ingrese el primer número: \")\n",
    "a=float(input())\n",
    "print(\"Ingrese el segundo número: \")\n",
    "b=float(input())\n",
    "print(\"Seleccione la operación a realizar:\\n1. Suma\\n2. Resta\\n3. Multiplicación\\n4. División(a/b)\\n5. División(b/a)\\n6. Exponente(a^b)\\n7. Exponente(b^a)  \")\n",
    "operacion=int(input())\n",
    "if operacion==1:\n",
    "    print(\"La suma es: \"+str(a+b))\n",
    "elif operacion==2:\n",
    "    print(\"La resta es: \"+str(a-b))\n",
    "elif operacion==3:\n",
    "    print(\"La multiplicación es: \"+str(a*b))\n",
    "elif operacion==4:\n",
    "    print(\"La división es: \"+str(a/b))\n",
    "elif operacion==5:\n",
    "    print(\"La división es: \"+str(b/a))\n",
    "elif operacion==6:\n",
    "    print(\"El resultado es: \"+str(a**b))\n",
    "elif operacion==7:\n",
    "    print(\"El resultado es: \"+str(b**a))\n",
    "else:\n",
    "    print(\"La operación no es válida\")"
   ]
  },
  {
   "cell_type": "markdown",
   "metadata": {},
   "source": [
    "#### Ejercicio 3\n"
   ]
  },
  {
   "cell_type": "markdown",
   "metadata": {},
   "source": [
    "Con loop while o for, realiza una lista de 10 numeros multiplos de 3, y después realiza una función de loop que sume todos los números dentro del arreglo."
   ]
  },
  {
   "cell_type": "code",
   "execution_count": 3,
   "metadata": {},
   "outputs": [
    {
     "name": "stdout",
     "output_type": "stream",
     "text": [
      "[219, 153, 192, 186, 198, 24, 147, 174, 288, 228]\n",
      "La suma de los multiplos es 1809\n"
     ]
    }
   ],
   "source": [
    "import random\n",
    "multiplos=[]\n",
    "for i in range(0,10):\n",
    "    multiplos.append(random.randint(1,100)*3)\n",
    "sumamultiplos=0\n",
    "for i in multiplos:\n",
    "    sumamultiplos=sumamultiplos+i\n",
    "print(multiplos)\n",
    "print(\"La suma de los multiplos es %d\" %sumamultiplos)"
   ]
  },
  {
   "cell_type": "markdown",
   "metadata": {},
   "source": [
    "#### Ejercicio 4"
   ]
  },
  {
   "cell_type": "markdown",
   "metadata": {},
   "source": [
    "Con una función de if else, revisar si un número es par o es impar."
   ]
  },
  {
   "cell_type": "code",
   "execution_count": 4,
   "metadata": {},
   "outputs": [
    {
     "name": "stdout",
     "output_type": "stream",
     "text": [
      "Introduzca un número entero: \n",
      "3\n",
      "El número es impar\n"
     ]
    }
   ],
   "source": [
    "print(\"Introduzca un número entero: \")\n",
    "a=int(input())\n",
    "if a%2==0:\n",
    "    print(\"El número es par\")\n",
    "else:\n",
    "    print(\"El número es impar\")"
   ]
  },
  {
   "cell_type": "markdown",
   "metadata": {},
   "source": [
    "Con una función de if else, revisar si un número es primo o no."
   ]
  },
  {
   "cell_type": "code",
   "execution_count": 5,
   "metadata": {},
   "outputs": [
    {
     "name": "stdout",
     "output_type": "stream",
     "text": [
      "Introduzca el número a verificar\n",
      "6\n",
      "El número no es primo\n"
     ]
    }
   ],
   "source": [
    "import math \n",
    "\n",
    "print(\"Introduzca el número a verificar\")\n",
    "a=int(input())\n",
    "b=math.floor(a**0.5)\n",
    "c=True\n",
    "\n",
    "for i in range(2,b+1):\n",
    "    if a%i==0:\n",
    "        c=False\n",
    "        break\n",
    "\n",
    "if c==False:\n",
    "    print(\"El número no es primo\")\n",
    "else: \n",
    "    print(\"El número es primo\")"
   ]
  },
  {
   "cell_type": "markdown",
   "metadata": {},
   "source": [
    "#### Ejercicio 5\n"
   ]
  },
  {
   "cell_type": "markdown",
   "metadata": {},
   "source": [
    "\n",
    "Utilizando diferentes clases en python, crea una calculadora con los operadores básicos de suma, resta, multiplicación, división, y exp."
   ]
  },
  {
   "cell_type": "code",
   "execution_count": 6,
   "metadata": {},
   "outputs": [
    {
     "name": "stdout",
     "output_type": "stream",
     "text": [
      "Ingrese el primer número: \n",
      "5\n",
      "Ingrese el segundo número: \n",
      "8\n",
      "Seleccione la operación a realizar:\n",
      "1. Suma\n",
      "2. Resta\n",
      "3. Multiplicación\n",
      "4. División(a/b)\n",
      "5. División(b/a)\n",
      "6. Exponente(a^b)\n",
      "7. Exponente(b^a)\n",
      "3\n",
      "La multiplicación es: 40.0\n"
     ]
    }
   ],
   "source": [
    "class calculadora:\n",
    "    def sumar(self,a,b):\n",
    "        print(\"La suma es: \"+str(a+b))\n",
    "    def restar(self,a,b):\n",
    "        print(\"La resta es: \"+str(a-b))\n",
    "    def multiplicar(self,a,b):\n",
    "        print(\"La multiplicación es: \"+str(a*b))\n",
    "    def division1(self,a,b):\n",
    "        print(\"La división es: \"+str(a/b))\n",
    "    def division2(self,a,b):\n",
    "        print(\"La división es: \"+str(b/a))\n",
    "    def exponente1(self,a,b):\n",
    "        print(\"El resultado es: \"+str(a**b))\n",
    "    def exponente2(self,a,b):\n",
    "        print(\"El resultado es: \"+str(b**a))\n",
    "\n",
    "def menu():\n",
    "    print(\"Seleccione la operación a realizar:\\n1. Suma\\n2. Resta\\n3. Multiplicación\\n4. División(a/b)\\n5. División(b/a)\\n6. Exponente(a^b)\\n7. Exponente(b^a)\")\n",
    "    return int(input())\n",
    "\n",
    "print(\"Ingrese el primer número: \")\n",
    "a=float(input())\n",
    "print(\"Ingrese el segundo número: \")\n",
    "b=float(input())\n",
    "operacion=menu()\n",
    "if operacion==1:\n",
    "    print(\"La suma es: \"+str(a+b))\n",
    "elif operacion==2:\n",
    "    print(\"La resta es: \"+str(a-b))\n",
    "elif operacion==3:\n",
    "    print(\"La multiplicación es: \"+str(a*b))\n",
    "elif operacion==4:\n",
    "    print(\"La división es: \"+str(a/b))\n",
    "elif operacion==5:\n",
    "    print(\"La división es: \"+str(b/a))\n",
    "elif operacion==6:\n",
    "    print(\"El resultado es: \"+str(a**b))\n",
    "elif operacion==7:\n",
    "    print(\"El resultado es: \"+str(b**a))\n",
    "else:\n",
    "    print(\"La operación no es válida\")"
   ]
  },
  {
   "cell_type": "markdown",
   "metadata": {},
   "source": [
    "# Tuplas\n"
   ]
  },
  {
   "cell_type": "markdown",
   "metadata": {},
   "source": [
    "Crear una variable flotante, integer, boleana y compleja e imprimir el tipo de variable que es."
   ]
  },
  {
   "cell_type": "code",
   "execution_count": 7,
   "metadata": {},
   "outputs": [
    {
     "name": "stdout",
     "output_type": "stream",
     "text": [
      "<class 'float'>\n",
      "<class 'int'>\n",
      "<class 'bool'>\n",
      "<class 'complex'>\n"
     ]
    }
   ],
   "source": [
    "flotante=5.765\n",
    "integra=5\n",
    "boleana=False\n",
    "compleja=1+2j\n",
    "\n",
    "print(type(flotante))\n",
    "print(type(integra))\n",
    "print(type(boleana))\n",
    "print(type(compleja))"
   ]
  },
  {
   "cell_type": "markdown",
   "metadata": {},
   "source": [
    "Crear una tupla con valores enteros imprimir el primer y ultimo valor."
   ]
  },
  {
   "cell_type": "code",
   "execution_count": 8,
   "metadata": {},
   "outputs": [
    {
     "name": "stdout",
     "output_type": "stream",
     "text": [
      "1\n",
      "10\n"
     ]
    }
   ],
   "source": [
    "tupla1=(1,2,3,4,5,6,7,8,9,10)\n",
    "print(tupla1[0])\n",
    "print(tupla1[9])"
   ]
  },
  {
   "cell_type": "markdown",
   "metadata": {},
   "source": [
    "Añadir 3 valores de string a la tupla."
   ]
  },
  {
   "cell_type": "code",
   "execution_count": 9,
   "metadata": {},
   "outputs": [],
   "source": [
    "tupla1 = tupla1[:] + ('Hola','agrego','strings')"
   ]
  },
  {
   "cell_type": "markdown",
   "metadata": {},
   "source": [
    "Verificar si una variable existe dentro de la tupla"
   ]
  },
  {
   "cell_type": "code",
   "execution_count": 10,
   "metadata": {},
   "outputs": [
    {
     "name": "stdout",
     "output_type": "stream",
     "text": [
      "La tupla contiene a la variable\n"
     ]
    }
   ],
   "source": [
    "a='Hola'\n",
    "if(a in tupla1):\n",
    "    print(\"La tupla contiene a la variable\")\n",
    "else:\n",
    "    print(\"La tupla no contiene a la variable\")"
   ]
  },
  {
   "cell_type": "markdown",
   "metadata": {},
   "source": [
    "# Listas"
   ]
  },
  {
   "cell_type": "markdown",
   "metadata": {},
   "source": [
    "Crear una lista con 40 elementos aleatorios enteros."
   ]
  },
  {
   "cell_type": "code",
   "execution_count": 11,
   "metadata": {},
   "outputs": [],
   "source": [
    "import random\n",
    "listarandom=[]\n",
    "for i in range(0,40): \n",
    "    listarandom.append(random.randint(-100,100))\n",
    "\n",
    "##No mencionaba los límites de los números enteros aleatorios"
   ]
  },
  {
   "cell_type": "markdown",
   "metadata": {},
   "source": [
    "Con una funcion (def) crear dos listas nuevas a partir de la lista creada por numeros aleatorios, en la cual en una esten los elementos pares, y en la otra los elementos impares."
   ]
  },
  {
   "cell_type": "code",
   "execution_count": 12,
   "metadata": {},
   "outputs": [],
   "source": [
    "def listapares(lista):\n",
    "    lp=[]\n",
    "    li=[]\n",
    "    for i in lista:\n",
    "        if i%2==0:\n",
    "            lp.append(i)\n",
    "        else:\n",
    "            li.append(i)\n",
    "    return lp,li\n",
    "\n",
    "##lp=lista pares, li=lista impares"
   ]
  },
  {
   "cell_type": "markdown",
   "metadata": {},
   "source": [
    "Crear dos variables con la longitud de ambas listas nuevas e imprimir las variables."
   ]
  },
  {
   "cell_type": "code",
   "execution_count": 13,
   "metadata": {},
   "outputs": [
    {
     "name": "stdout",
     "output_type": "stream",
     "text": [
      "En la lista de aleatorios pares hay 20 numeros\n",
      "En la lista de aleatorios impares hay 20 numeros\n"
     ]
    }
   ],
   "source": [
    "listas=listapares(listarandom)\n",
    "\n",
    "tam_par = len(listas[0])\n",
    "tam_impar=len(listas[1])\n",
    "\n",
    "print(\"En la lista de aleatorios pares hay %d numeros\" %tam_par)\n",
    "print(\"En la lista de aleatorios impares hay %d numeros\" %tam_impar)"
   ]
  },
  {
   "cell_type": "markdown",
   "metadata": {},
   "source": [
    "Ordenar los elementos de la lista par de mayor a menor, y los de la lista impar de menor a mayor."
   ]
  },
  {
   "cell_type": "code",
   "execution_count": 14,
   "metadata": {},
   "outputs": [],
   "source": [
    "listas[0].sort(reverse=True)\n",
    "listas[1].sort()\n",
    "\n",
    "##listas[0] hará referencia a la lista de pares y listas[1] a la lista de impares"
   ]
  },
  {
   "cell_type": "markdown",
   "metadata": {},
   "source": [
    "Utilizar al menos cuatro de las funciones de listas en python en la lista original de 40 elementos."
   ]
  },
  {
   "cell_type": "code",
   "execution_count": 15,
   "metadata": {},
   "outputs": [
    {
     "data": {
      "text/plain": [
       "10"
      ]
     },
     "execution_count": 15,
     "metadata": {},
     "output_type": "execute_result"
    }
   ],
   "source": [
    "listarandom.reverse() #Voltea la lista\n",
    "listarandom.insert(40,10) #Agrega el número 10 a la posición 40\n",
    "listarandom.index(10) #Devuelve las posiciones que tienen al número 10\n",
    "listarandom.pop(40) #Elimina el elemento 40 que agregamos"
   ]
  },
  {
   "cell_type": "markdown",
   "metadata": {},
   "source": [
    "# Diccionarios"
   ]
  },
  {
   "cell_type": "markdown",
   "metadata": {},
   "source": [
    "Crear un diccionario de 6 personas que conozcas con su primer nombre y su edad."
   ]
  },
  {
   "cell_type": "code",
   "execution_count": 16,
   "metadata": {},
   "outputs": [],
   "source": [
    "diccionario = {'nombre1' : 'Mauricio', 'edad1' : 20,'nombre2' : 'Marco', 'edad2' : 15,'nombre3' : 'Alex', 'edad3' : 31,'nombre4' : 'Eduardo', 'edad4' : 21,'nombre5' : 'Andrea', 'edad5' : 22,'nombre6' : 'Mayra', 'edad6' : 25}"
   ]
  },
  {
   "cell_type": "markdown",
   "metadata": {},
   "source": [
    "Crear una lista con los valores de la edad y reacomodar la lista de menor a mayor valor."
   ]
  },
  {
   "cell_type": "code",
   "execution_count": 17,
   "metadata": {},
   "outputs": [],
   "source": [
    "edades=[]\n",
    "edades.append(diccionario['edad1'])\n",
    "edades.append(diccionario['edad2'])\n",
    "edades.append(diccionario['edad3'])\n",
    "edades.append(diccionario['edad4'])\n",
    "edades.append(diccionario['edad5'])\n",
    "edades.append(diccionario['edad6'])\n",
    "\n",
    "edades.sort()"
   ]
  },
  {
   "cell_type": "markdown",
   "metadata": {},
   "source": [
    "Usando el diccionario y un loop, imprimir solo los nombres."
   ]
  },
  {
   "cell_type": "code",
   "execution_count": 18,
   "metadata": {},
   "outputs": [
    {
     "name": "stdout",
     "output_type": "stream",
     "text": [
      "Mauricio\n",
      "Marco\n",
      "Alex\n",
      "Eduardo\n",
      "Andrea\n",
      "Mayra\n"
     ]
    }
   ],
   "source": [
    "for x in diccionario:\n",
    "    if x=='nombre1' or x=='nombre2' or x=='nombre3' or x=='nombre4' or x=='nombre5' or x=='nombre6':\n",
    "        print(diccionario[x])"
   ]
  },
  {
   "cell_type": "markdown",
   "metadata": {},
   "source": [
    "Añadir dos personas nuevas a tu diccionario, incluyendo edad."
   ]
  },
  {
   "cell_type": "code",
   "execution_count": 19,
   "metadata": {},
   "outputs": [],
   "source": [
    "diccionario['nombre7']='Vanessa'\n",
    "diccionario['edad7']=28\n",
    "diccionario['nombre8']='Noe'\n",
    "diccionario['edad8']=19"
   ]
  },
  {
   "cell_type": "markdown",
   "metadata": {},
   "source": [
    "# Sets"
   ]
  },
  {
   "cell_type": "markdown",
   "metadata": {},
   "source": [
    "Crea un set con 100 numeros aleatorios enteros del 1 al 25."
   ]
  },
  {
   "cell_type": "code",
   "execution_count": 20,
   "metadata": {},
   "outputs": [],
   "source": [
    "conjunto=set()\n",
    "randomlista=[]\n",
    "for i in range(0,100):\n",
    "    randomlista.append(random.randint(1,25))\n",
    "conjunto.update(randomlista)"
   ]
  },
  {
   "cell_type": "markdown",
   "metadata": {},
   "source": [
    "Comprueba la longitud de tu set."
   ]
  },
  {
   "cell_type": "code",
   "execution_count": 21,
   "metadata": {},
   "outputs": [
    {
     "name": "stdout",
     "output_type": "stream",
     "text": [
      "La longitud del conjunto es 24\n"
     ]
    }
   ],
   "source": [
    "print(\"La longitud del conjunto es %d\" %len(conjunto))\n",
    "## Observamos que la longitud será de a lo mucho 25 ya que los sets no repiten valores"
   ]
  },
  {
   "cell_type": "markdown",
   "metadata": {},
   "source": [
    "Crea una lista de 5 numeros aleatorios del 1 al 10 y comprueba si cada valor aparece en el set inicial."
   ]
  },
  {
   "cell_type": "code",
   "execution_count": 22,
   "metadata": {
    "scrolled": true
   },
   "outputs": [
    {
     "name": "stdout",
     "output_type": "stream",
     "text": [
      "True\n",
      "True\n",
      "True\n",
      "True\n",
      "True\n"
     ]
    }
   ],
   "source": [
    "randomlista2=[]\n",
    "for i in range(0,5):\n",
    "    randomlista2.append(random.randint(1,5))\n",
    "    print(randomlista2[i] in conjunto)\n",
    "##Por probabilidad, la mayoría de los casos arrojará 5 True"
   ]
  }
 ],
 "metadata": {
  "kernelspec": {
   "display_name": "Python 3",
   "language": "python",
   "name": "python3"
  },
  "language_info": {
   "codemirror_mode": {
    "name": "ipython",
    "version": 3
   },
   "file_extension": ".py",
   "mimetype": "text/x-python",
   "name": "python",
   "nbconvert_exporter": "python",
   "pygments_lexer": "ipython3",
   "version": "3.8.3"
  }
 },
 "nbformat": 4,
 "nbformat_minor": 4
}
